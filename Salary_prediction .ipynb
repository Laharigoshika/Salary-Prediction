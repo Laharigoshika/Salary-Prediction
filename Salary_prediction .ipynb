{
 "cells": [
  {
   "cell_type": "markdown",
   "metadata": {},
   "source": [
    "# Group work - Assessment 2"
   ]
  },
  {
   "cell_type": "markdown",
   "metadata": {},
   "source": [
    "In this assignment, we will focus on salary prediction. The data set for this assignment includes information on job descriptions and salaries. Use this data set to see if you can predict the salary of a job posting (i.e., the `Salary` column in the data set) based on the job description. This is important, because this model can make a salary recommendation as soon as a job description is entered into a system."
   ]
  },
  {
   "cell_type": "markdown",
   "metadata": {},
   "source": [
    "## Description of Variables\n",
    "\n",
    "The description of variables are provided in \"Jobs - Data Dictionary.docx\""
   ]
  },
  {
   "cell_type": "markdown",
   "metadata": {},
   "source": [
    "## Goal\n",
    "\n",
    "Use the **jobs_alldata.csv** data set and build models to predict **salary**.\n",
    "\n",
    "**Be careful: this is a REGRESSION task**"
   ]
  },
  {
   "cell_type": "markdown",
   "metadata": {},
   "source": [
    "## Submission:\n",
    "\n",
    "Please save and submit this Jupyter notebook file. The correctness of the code matters for your grade. **Readability and organization of your code is also important.** You may lose points for submitting unreadable/undecipherable code. Therefore, use markdown cells to create sections, and use comments where necessary.\n"
   ]
  },
  {
   "cell_type": "markdown",
   "metadata": {},
   "source": [
    "## Recommended roles for group members:\n",
    "\n",
    "**Section 1:** to be completed by both group members\n",
    "\n",
    "**Section 2:** first three models to be completed by the first group member and checked by the second; last two models to be completed by the second group members and checked by the first group member.\n",
    "\n",
    "**Discussion:** to be completed by both group members\n",
    "\n",
    "**Important notes:**\n",
    "- Both group members will get the same grade. Therefore, you should check the work of your group member. If they make a mistake, you will be responsible for that mistake too.\n",
    "- Both group members must put in their fair share of effort. Otherwise, those who don't contribute to the assignment will not receive any grade.\n"
   ]
  },
  {
   "cell_type": "markdown",
   "metadata": {},
   "source": [
    "# Section 1: (8 points in total)"
   ]
  },
  {
   "cell_type": "markdown",
   "metadata": {},
   "source": [
    "## Data Prep (6 points)"
   ]
  },
  {
   "cell_type": "code",
   "execution_count": 1,
   "metadata": {},
   "outputs": [],
   "source": [
    "import pandas as pd\n",
    "import numpy as np"
   ]
  },
  {
   "cell_type": "code",
   "execution_count": null,
   "metadata": {},
   "outputs": [],
   "source": []
  },
  {
   "cell_type": "code",
   "execution_count": 2,
   "metadata": {},
   "outputs": [
    {
     "data": {
      "text/html": [
       "<div>\n",
       "<style scoped>\n",
       "    .dataframe tbody tr th:only-of-type {\n",
       "        vertical-align: middle;\n",
       "    }\n",
       "\n",
       "    .dataframe tbody tr th {\n",
       "        vertical-align: top;\n",
       "    }\n",
       "\n",
       "    .dataframe thead th {\n",
       "        text-align: right;\n",
       "    }\n",
       "</style>\n",
       "<table border=\"1\" class=\"dataframe\">\n",
       "  <thead>\n",
       "    <tr style=\"text-align: right;\">\n",
       "      <th></th>\n",
       "      <th>Salary</th>\n",
       "      <th>Job Description</th>\n",
       "      <th>Location</th>\n",
       "      <th>Min_years_exp</th>\n",
       "      <th>Technical</th>\n",
       "      <th>Comm</th>\n",
       "      <th>Travel</th>\n",
       "    </tr>\n",
       "  </thead>\n",
       "  <tbody>\n",
       "    <tr>\n",
       "      <th>0</th>\n",
       "      <td>67206</td>\n",
       "      <td>Civil Service Title: Regional Director Mental ...</td>\n",
       "      <td>Remote</td>\n",
       "      <td>5</td>\n",
       "      <td>2</td>\n",
       "      <td>3</td>\n",
       "      <td>0</td>\n",
       "    </tr>\n",
       "    <tr>\n",
       "      <th>1</th>\n",
       "      <td>88313</td>\n",
       "      <td>The New York City Comptrollerâ€™s Office Burea...</td>\n",
       "      <td>Remote</td>\n",
       "      <td>5</td>\n",
       "      <td>2</td>\n",
       "      <td>4</td>\n",
       "      <td>10-15</td>\n",
       "    </tr>\n",
       "    <tr>\n",
       "      <th>2</th>\n",
       "      <td>81315</td>\n",
       "      <td>With minimal supervision from the Deputy Commi...</td>\n",
       "      <td>East campus</td>\n",
       "      <td>5</td>\n",
       "      <td>3</td>\n",
       "      <td>3</td>\n",
       "      <td>5-10</td>\n",
       "    </tr>\n",
       "    <tr>\n",
       "      <th>3</th>\n",
       "      <td>76426</td>\n",
       "      <td>OPEN TO CURRENT BUSINESS PROMOTION COORDINATOR...</td>\n",
       "      <td>East campus</td>\n",
       "      <td>1</td>\n",
       "      <td>1</td>\n",
       "      <td>3</td>\n",
       "      <td>0</td>\n",
       "    </tr>\n",
       "    <tr>\n",
       "      <th>4</th>\n",
       "      <td>55675</td>\n",
       "      <td>Only candidates who are permanent in the Princ...</td>\n",
       "      <td>Southeast campus</td>\n",
       "      <td>1</td>\n",
       "      <td>1</td>\n",
       "      <td>3</td>\n",
       "      <td>5-10</td>\n",
       "    </tr>\n",
       "    <tr>\n",
       "      <th>...</th>\n",
       "      <td>...</td>\n",
       "      <td>...</td>\n",
       "      <td>...</td>\n",
       "      <td>...</td>\n",
       "      <td>...</td>\n",
       "      <td>...</td>\n",
       "      <td>...</td>\n",
       "    </tr>\n",
       "    <tr>\n",
       "      <th>2408</th>\n",
       "      <td>79812</td>\n",
       "      <td>Section 8, also known as the Housing Choice Vo...</td>\n",
       "      <td>Southeast campus</td>\n",
       "      <td>5</td>\n",
       "      <td>2</td>\n",
       "      <td>1</td>\n",
       "      <td>0</td>\n",
       "    </tr>\n",
       "    <tr>\n",
       "      <th>2409</th>\n",
       "      <td>108122</td>\n",
       "      <td>The NYC Department of Environmental Protection...</td>\n",
       "      <td>West campus</td>\n",
       "      <td>5</td>\n",
       "      <td>1</td>\n",
       "      <td>1</td>\n",
       "      <td>0</td>\n",
       "    </tr>\n",
       "    <tr>\n",
       "      <th>2410</th>\n",
       "      <td>55711</td>\n",
       "      <td>The NYC Department of Environmental Protection...</td>\n",
       "      <td>HQ</td>\n",
       "      <td>5</td>\n",
       "      <td>5</td>\n",
       "      <td>4</td>\n",
       "      <td>0</td>\n",
       "    </tr>\n",
       "    <tr>\n",
       "      <th>2411</th>\n",
       "      <td>64420</td>\n",
       "      <td>Under general supervision, with some latitude ...</td>\n",
       "      <td>East campus</td>\n",
       "      <td>4</td>\n",
       "      <td>1</td>\n",
       "      <td>5</td>\n",
       "      <td>0</td>\n",
       "    </tr>\n",
       "    <tr>\n",
       "      <th>2412</th>\n",
       "      <td>34438</td>\n",
       "      <td>The New York City Department of Correction (DO...</td>\n",
       "      <td>HQ</td>\n",
       "      <td>5</td>\n",
       "      <td>3</td>\n",
       "      <td>5</td>\n",
       "      <td>0</td>\n",
       "    </tr>\n",
       "  </tbody>\n",
       "</table>\n",
       "<p>2413 rows × 7 columns</p>\n",
       "</div>"
      ],
      "text/plain": [
       "      Salary                                    Job Description  \\\n",
       "0      67206  Civil Service Title: Regional Director Mental ...   \n",
       "1      88313  The New York City Comptrollerâ€™s Office Burea...   \n",
       "2      81315  With minimal supervision from the Deputy Commi...   \n",
       "3      76426  OPEN TO CURRENT BUSINESS PROMOTION COORDINATOR...   \n",
       "4      55675  Only candidates who are permanent in the Princ...   \n",
       "...      ...                                                ...   \n",
       "2408   79812  Section 8, also known as the Housing Choice Vo...   \n",
       "2409  108122  The NYC Department of Environmental Protection...   \n",
       "2410   55711  The NYC Department of Environmental Protection...   \n",
       "2411   64420  Under general supervision, with some latitude ...   \n",
       "2412   34438  The New York City Department of Correction (DO...   \n",
       "\n",
       "              Location  Min_years_exp  Technical  Comm Travel  \n",
       "0               Remote              5          2     3      0  \n",
       "1               Remote              5          2     4  10-15  \n",
       "2          East campus              5          3     3   5-10  \n",
       "3          East campus              1          1     3      0  \n",
       "4     Southeast campus              1          1     3   5-10  \n",
       "...                ...            ...        ...   ...    ...  \n",
       "2408  Southeast campus              5          2     1      0  \n",
       "2409       West campus              5          1     1      0  \n",
       "2410                HQ              5          5     4      0  \n",
       "2411       East campus              4          1     5      0  \n",
       "2412                HQ              5          3     5      0  \n",
       "\n",
       "[2413 rows x 7 columns]"
      ]
     },
     "execution_count": 2,
     "metadata": {},
     "output_type": "execute_result"
    }
   ],
   "source": [
    "df_jobs = pd.read_csv('jobs_alldata.csv')\n",
    "df_jobs"
   ]
  },
  {
   "cell_type": "code",
   "execution_count": 3,
   "metadata": {},
   "outputs": [],
   "source": [
    "from sklearn.model_selection import train_test_split\n",
    "\n",
    "train_set, test_set = train_test_split(df_jobs, test_size=0.3)"
   ]
  },
  {
   "cell_type": "markdown",
   "metadata": {},
   "source": [
    "## Separating the Target Variable"
   ]
  },
  {
   "cell_type": "code",
   "execution_count": 4,
   "metadata": {},
   "outputs": [],
   "source": [
    "train_y = train_set['Salary']\n",
    "test_y = test_set['Salary']\n",
    "\n",
    "train_inputs = train_set.drop(['Salary'], axis=1)\n",
    "test_inputs = test_set.drop(['Salary'], axis=1)"
   ]
  },
  {
   "cell_type": "markdown",
   "metadata": {},
   "source": [
    "### Separating the Job Description column to perform Text Mining for Train Dataset"
   ]
  },
  {
   "cell_type": "code",
   "execution_count": 26,
   "metadata": {},
   "outputs": [
    {
     "data": {
      "text/plain": [
       "2020    The NYC Department of Environmental Protection...\n",
       "901     Your Team:  The Division Tenant Resources HPD'...\n",
       "2168    The candidate will be responsible for the dire...\n",
       "39      The NYC Department of Environmental Protection...\n",
       "1860    DoITT provides for the sustained, efficient an...\n",
       "                              ...                        \n",
       "1776    YOU MUST INDICATE IN YOUR COVER LETTER AND RES...\n",
       "1833    The NYC Department of Environmental Protection...\n",
       "510     The Bureau of Law & Adjustment is responsible ...\n",
       "553     DoITT provides for the sustained, efficient an...\n",
       "106     Civil Service Title:  Senior Photographer\\t\\t\\...\n",
       "Name: Job Description, Length: 1689, dtype: object"
      ]
     },
     "execution_count": 26,
     "metadata": {},
     "output_type": "execute_result"
    }
   ],
   "source": [
    "Train_Text_inputs=train_inputs['Job Description']\n",
    "Train_Text_inputs"
   ]
  },
  {
   "cell_type": "code",
   "execution_count": 6,
   "metadata": {},
   "outputs": [
    {
     "data": {
      "text/html": [
       "<div>\n",
       "<style scoped>\n",
       "    .dataframe tbody tr th:only-of-type {\n",
       "        vertical-align: middle;\n",
       "    }\n",
       "\n",
       "    .dataframe tbody tr th {\n",
       "        vertical-align: top;\n",
       "    }\n",
       "\n",
       "    .dataframe thead th {\n",
       "        text-align: right;\n",
       "    }\n",
       "</style>\n",
       "<table border=\"1\" class=\"dataframe\">\n",
       "  <thead>\n",
       "    <tr style=\"text-align: right;\">\n",
       "      <th></th>\n",
       "      <th>Location</th>\n",
       "      <th>Min_years_exp</th>\n",
       "      <th>Technical</th>\n",
       "      <th>Comm</th>\n",
       "      <th>Travel</th>\n",
       "    </tr>\n",
       "  </thead>\n",
       "  <tbody>\n",
       "    <tr>\n",
       "      <th>2020</th>\n",
       "      <td>HQ</td>\n",
       "      <td>5</td>\n",
       "      <td>2</td>\n",
       "      <td>3</td>\n",
       "      <td>0</td>\n",
       "    </tr>\n",
       "    <tr>\n",
       "      <th>901</th>\n",
       "      <td>Remote</td>\n",
       "      <td>1</td>\n",
       "      <td>1</td>\n",
       "      <td>4</td>\n",
       "      <td>0</td>\n",
       "    </tr>\n",
       "    <tr>\n",
       "      <th>2168</th>\n",
       "      <td>Remote</td>\n",
       "      <td>5</td>\n",
       "      <td>3</td>\n",
       "      <td>5</td>\n",
       "      <td>0</td>\n",
       "    </tr>\n",
       "    <tr>\n",
       "      <th>39</th>\n",
       "      <td>Remote</td>\n",
       "      <td>1</td>\n",
       "      <td>1</td>\n",
       "      <td>4</td>\n",
       "      <td>10-15</td>\n",
       "    </tr>\n",
       "    <tr>\n",
       "      <th>1860</th>\n",
       "      <td>HQ</td>\n",
       "      <td>5</td>\n",
       "      <td>4</td>\n",
       "      <td>2</td>\n",
       "      <td>0</td>\n",
       "    </tr>\n",
       "    <tr>\n",
       "      <th>...</th>\n",
       "      <td>...</td>\n",
       "      <td>...</td>\n",
       "      <td>...</td>\n",
       "      <td>...</td>\n",
       "      <td>...</td>\n",
       "    </tr>\n",
       "    <tr>\n",
       "      <th>1776</th>\n",
       "      <td>HQ</td>\n",
       "      <td>5</td>\n",
       "      <td>2</td>\n",
       "      <td>1</td>\n",
       "      <td>5-10</td>\n",
       "    </tr>\n",
       "    <tr>\n",
       "      <th>1833</th>\n",
       "      <td>East campus</td>\n",
       "      <td>2</td>\n",
       "      <td>3</td>\n",
       "      <td>2</td>\n",
       "      <td>0</td>\n",
       "    </tr>\n",
       "    <tr>\n",
       "      <th>510</th>\n",
       "      <td>HQ</td>\n",
       "      <td>1</td>\n",
       "      <td>2</td>\n",
       "      <td>4</td>\n",
       "      <td>0</td>\n",
       "    </tr>\n",
       "    <tr>\n",
       "      <th>553</th>\n",
       "      <td>HQ</td>\n",
       "      <td>1</td>\n",
       "      <td>1</td>\n",
       "      <td>4</td>\n",
       "      <td>0</td>\n",
       "    </tr>\n",
       "    <tr>\n",
       "      <th>106</th>\n",
       "      <td>HQ</td>\n",
       "      <td>1</td>\n",
       "      <td>3</td>\n",
       "      <td>4</td>\n",
       "      <td>0</td>\n",
       "    </tr>\n",
       "  </tbody>\n",
       "</table>\n",
       "<p>1689 rows × 5 columns</p>\n",
       "</div>"
      ],
      "text/plain": [
       "         Location  Min_years_exp  Technical  Comm Travel\n",
       "2020           HQ              5          2     3      0\n",
       "901        Remote              1          1     4      0\n",
       "2168       Remote              5          3     5      0\n",
       "39         Remote              1          1     4  10-15\n",
       "1860           HQ              5          4     2      0\n",
       "...           ...            ...        ...   ...    ...\n",
       "1776           HQ              5          2     1   5-10\n",
       "1833  East campus              2          3     2      0\n",
       "510            HQ              1          2     4      0\n",
       "553            HQ              1          1     4      0\n",
       "106            HQ              1          3     4      0\n",
       "\n",
       "[1689 rows x 5 columns]"
      ]
     },
     "execution_count": 6,
     "metadata": {},
     "output_type": "execute_result"
    }
   ],
   "source": [
    "Train_NonText_inputs=train_inputs.drop('Job Description',axis=1)\n",
    "Train_NonText_inputs"
   ]
  },
  {
   "cell_type": "markdown",
   "metadata": {},
   "source": [
    "### Separating the Job Description column to perform Text Mining for Test Dataset"
   ]
  },
  {
   "cell_type": "code",
   "execution_count": 7,
   "metadata": {},
   "outputs": [
    {
     "data": {
      "text/plain": [
       "1908    The NYC Department of Environmental Protection...\n",
       "1794    The New York City Housing Authority (NYCHA) is...\n",
       "1688    The NYC Department of Design and Construction,...\n",
       "2048    The Comptroller's Bureau of Contract Administr...\n",
       "2105    The NYC Department of Homeless Services (DHS) ...\n",
       "                              ...                        \n",
       "269     The Financial Information Services Agency and ...\n",
       "943     Under direction, with latitude for the exercis...\n",
       "1256    The mission of the New York City Police Depart...\n",
       "808     The New York City Department of Investigation ...\n",
       "995     In the Division of Bridges, assists the Truck ...\n",
       "Name: Job Description, Length: 724, dtype: object"
      ]
     },
     "execution_count": 7,
     "metadata": {},
     "output_type": "execute_result"
    }
   ],
   "source": [
    "Test_Text_inputs=test_inputs['Job Description']\n",
    "Test_Text_inputs"
   ]
  },
  {
   "cell_type": "code",
   "execution_count": 8,
   "metadata": {},
   "outputs": [
    {
     "data": {
      "text/html": [
       "<div>\n",
       "<style scoped>\n",
       "    .dataframe tbody tr th:only-of-type {\n",
       "        vertical-align: middle;\n",
       "    }\n",
       "\n",
       "    .dataframe tbody tr th {\n",
       "        vertical-align: top;\n",
       "    }\n",
       "\n",
       "    .dataframe thead th {\n",
       "        text-align: right;\n",
       "    }\n",
       "</style>\n",
       "<table border=\"1\" class=\"dataframe\">\n",
       "  <thead>\n",
       "    <tr style=\"text-align: right;\">\n",
       "      <th></th>\n",
       "      <th>Location</th>\n",
       "      <th>Min_years_exp</th>\n",
       "      <th>Technical</th>\n",
       "      <th>Comm</th>\n",
       "      <th>Travel</th>\n",
       "    </tr>\n",
       "  </thead>\n",
       "  <tbody>\n",
       "    <tr>\n",
       "      <th>1908</th>\n",
       "      <td>East campus</td>\n",
       "      <td>5</td>\n",
       "      <td>5</td>\n",
       "      <td>2</td>\n",
       "      <td>0</td>\n",
       "    </tr>\n",
       "    <tr>\n",
       "      <th>1794</th>\n",
       "      <td>Remote</td>\n",
       "      <td>2</td>\n",
       "      <td>5</td>\n",
       "      <td>3</td>\n",
       "      <td>0</td>\n",
       "    </tr>\n",
       "    <tr>\n",
       "      <th>1688</th>\n",
       "      <td>West campus</td>\n",
       "      <td>5</td>\n",
       "      <td>5</td>\n",
       "      <td>3</td>\n",
       "      <td>0</td>\n",
       "    </tr>\n",
       "    <tr>\n",
       "      <th>2048</th>\n",
       "      <td>West campus</td>\n",
       "      <td>2</td>\n",
       "      <td>1</td>\n",
       "      <td>5</td>\n",
       "      <td>0</td>\n",
       "    </tr>\n",
       "    <tr>\n",
       "      <th>2105</th>\n",
       "      <td>HQ</td>\n",
       "      <td>5</td>\n",
       "      <td>2</td>\n",
       "      <td>5</td>\n",
       "      <td>10-15</td>\n",
       "    </tr>\n",
       "    <tr>\n",
       "      <th>...</th>\n",
       "      <td>...</td>\n",
       "      <td>...</td>\n",
       "      <td>...</td>\n",
       "      <td>...</td>\n",
       "      <td>...</td>\n",
       "    </tr>\n",
       "    <tr>\n",
       "      <th>269</th>\n",
       "      <td>East campus</td>\n",
       "      <td>1</td>\n",
       "      <td>3</td>\n",
       "      <td>3</td>\n",
       "      <td>0</td>\n",
       "    </tr>\n",
       "    <tr>\n",
       "      <th>943</th>\n",
       "      <td>Remote</td>\n",
       "      <td>4</td>\n",
       "      <td>1</td>\n",
       "      <td>3</td>\n",
       "      <td>0</td>\n",
       "    </tr>\n",
       "    <tr>\n",
       "      <th>1256</th>\n",
       "      <td>West campus</td>\n",
       "      <td>1</td>\n",
       "      <td>2</td>\n",
       "      <td>3</td>\n",
       "      <td>0</td>\n",
       "    </tr>\n",
       "    <tr>\n",
       "      <th>808</th>\n",
       "      <td>East campus</td>\n",
       "      <td>5</td>\n",
       "      <td>1</td>\n",
       "      <td>4</td>\n",
       "      <td>5-10</td>\n",
       "    </tr>\n",
       "    <tr>\n",
       "      <th>995</th>\n",
       "      <td>HQ</td>\n",
       "      <td>5</td>\n",
       "      <td>2</td>\n",
       "      <td>3</td>\n",
       "      <td>1-5</td>\n",
       "    </tr>\n",
       "  </tbody>\n",
       "</table>\n",
       "<p>724 rows × 5 columns</p>\n",
       "</div>"
      ],
      "text/plain": [
       "         Location  Min_years_exp  Technical  Comm Travel\n",
       "1908  East campus              5          5     2      0\n",
       "1794       Remote              2          5     3      0\n",
       "1688  West campus              5          5     3      0\n",
       "2048  West campus              2          1     5      0\n",
       "2105           HQ              5          2     5  10-15\n",
       "...           ...            ...        ...   ...    ...\n",
       "269   East campus              1          3     3      0\n",
       "943        Remote              4          1     3      0\n",
       "1256  West campus              1          2     3      0\n",
       "808   East campus              5          1     4   5-10\n",
       "995            HQ              5          2     3    1-5\n",
       "\n",
       "[724 rows x 5 columns]"
      ]
     },
     "execution_count": 8,
     "metadata": {},
     "output_type": "execute_result"
    }
   ],
   "source": [
    "Test_NonText_inputs=test_inputs.drop('Job Description',axis=1)\n",
    "Test_NonText_inputs"
   ]
  },
  {
   "cell_type": "markdown",
   "metadata": {},
   "source": [
    "## Feature Engineering (1 points)\n",
    "\n",
    "Create one NEW feature from existing data. You either transform a single variable, or create a new variable from existing ones. \n",
    "\n",
    "Grading: \n",
    "- 0.5 points for creating the new feature correctly\n",
    "- 0.5 points for the justification of the new feature (i.e., why did you create this new feature)"
   ]
  },
  {
   "cell_type": "markdown",
   "metadata": {},
   "source": [
    "### Creating a New binary column called travel hours : If travel hours value is greater than 0, corresponding value will be 1 else it will be 0 (this column will help to determine the effect of travel hours on salary)"
   ]
  },
  {
   "cell_type": "code",
   "execution_count": 9,
   "metadata": {},
   "outputs": [],
   "source": [
    "def new_col(df):\n",
    "    #Create a copy so that we don't overwrite the existing dataframe\n",
    "    df1 = df.copy()\n",
    "    \n",
    "    df1['travel_hours'] = np.where(df1['Travel'] == '0', 0, 1)\n",
    "    \n",
    "    return df1[['travel_hours']]"
   ]
  },
  {
   "cell_type": "code",
   "execution_count": 10,
   "metadata": {},
   "outputs": [
    {
     "data": {
      "text/html": [
       "<div>\n",
       "<style scoped>\n",
       "    .dataframe tbody tr th:only-of-type {\n",
       "        vertical-align: middle;\n",
       "    }\n",
       "\n",
       "    .dataframe tbody tr th {\n",
       "        vertical-align: top;\n",
       "    }\n",
       "\n",
       "    .dataframe thead th {\n",
       "        text-align: right;\n",
       "    }\n",
       "</style>\n",
       "<table border=\"1\" class=\"dataframe\">\n",
       "  <thead>\n",
       "    <tr style=\"text-align: right;\">\n",
       "      <th></th>\n",
       "      <th>travel_hours</th>\n",
       "    </tr>\n",
       "  </thead>\n",
       "  <tbody>\n",
       "    <tr>\n",
       "      <th>2020</th>\n",
       "      <td>0</td>\n",
       "    </tr>\n",
       "    <tr>\n",
       "      <th>901</th>\n",
       "      <td>0</td>\n",
       "    </tr>\n",
       "    <tr>\n",
       "      <th>2168</th>\n",
       "      <td>0</td>\n",
       "    </tr>\n",
       "    <tr>\n",
       "      <th>39</th>\n",
       "      <td>1</td>\n",
       "    </tr>\n",
       "    <tr>\n",
       "      <th>1860</th>\n",
       "      <td>0</td>\n",
       "    </tr>\n",
       "    <tr>\n",
       "      <th>...</th>\n",
       "      <td>...</td>\n",
       "    </tr>\n",
       "    <tr>\n",
       "      <th>1776</th>\n",
       "      <td>1</td>\n",
       "    </tr>\n",
       "    <tr>\n",
       "      <th>1833</th>\n",
       "      <td>0</td>\n",
       "    </tr>\n",
       "    <tr>\n",
       "      <th>510</th>\n",
       "      <td>0</td>\n",
       "    </tr>\n",
       "    <tr>\n",
       "      <th>553</th>\n",
       "      <td>0</td>\n",
       "    </tr>\n",
       "    <tr>\n",
       "      <th>106</th>\n",
       "      <td>0</td>\n",
       "    </tr>\n",
       "  </tbody>\n",
       "</table>\n",
       "<p>1689 rows × 1 columns</p>\n",
       "</div>"
      ],
      "text/plain": [
       "      travel_hours\n",
       "2020             0\n",
       "901              0\n",
       "2168             0\n",
       "39               1\n",
       "1860             0\n",
       "...            ...\n",
       "1776             1\n",
       "1833             0\n",
       "510              0\n",
       "553              0\n",
       "106              0\n",
       "\n",
       "[1689 rows x 1 columns]"
      ]
     },
     "execution_count": 10,
     "metadata": {},
     "output_type": "execute_result"
    }
   ],
   "source": [
    "new_col(Train_NonText_inputs)"
   ]
  },
  {
   "cell_type": "code",
   "execution_count": 11,
   "metadata": {},
   "outputs": [
    {
     "data": {
      "text/html": [
       "<div>\n",
       "<style scoped>\n",
       "    .dataframe tbody tr th:only-of-type {\n",
       "        vertical-align: middle;\n",
       "    }\n",
       "\n",
       "    .dataframe tbody tr th {\n",
       "        vertical-align: top;\n",
       "    }\n",
       "\n",
       "    .dataframe thead th {\n",
       "        text-align: right;\n",
       "    }\n",
       "</style>\n",
       "<table border=\"1\" class=\"dataframe\">\n",
       "  <thead>\n",
       "    <tr style=\"text-align: right;\">\n",
       "      <th></th>\n",
       "      <th>Location</th>\n",
       "      <th>Min_years_exp</th>\n",
       "      <th>Technical</th>\n",
       "      <th>Comm</th>\n",
       "      <th>Travel</th>\n",
       "    </tr>\n",
       "  </thead>\n",
       "  <tbody>\n",
       "    <tr>\n",
       "      <th>2020</th>\n",
       "      <td>HQ</td>\n",
       "      <td>5</td>\n",
       "      <td>2</td>\n",
       "      <td>3</td>\n",
       "      <td>0</td>\n",
       "    </tr>\n",
       "    <tr>\n",
       "      <th>901</th>\n",
       "      <td>Remote</td>\n",
       "      <td>1</td>\n",
       "      <td>1</td>\n",
       "      <td>4</td>\n",
       "      <td>0</td>\n",
       "    </tr>\n",
       "    <tr>\n",
       "      <th>2168</th>\n",
       "      <td>Remote</td>\n",
       "      <td>5</td>\n",
       "      <td>3</td>\n",
       "      <td>5</td>\n",
       "      <td>0</td>\n",
       "    </tr>\n",
       "    <tr>\n",
       "      <th>39</th>\n",
       "      <td>Remote</td>\n",
       "      <td>1</td>\n",
       "      <td>1</td>\n",
       "      <td>4</td>\n",
       "      <td>10-15</td>\n",
       "    </tr>\n",
       "    <tr>\n",
       "      <th>1860</th>\n",
       "      <td>HQ</td>\n",
       "      <td>5</td>\n",
       "      <td>4</td>\n",
       "      <td>2</td>\n",
       "      <td>0</td>\n",
       "    </tr>\n",
       "    <tr>\n",
       "      <th>...</th>\n",
       "      <td>...</td>\n",
       "      <td>...</td>\n",
       "      <td>...</td>\n",
       "      <td>...</td>\n",
       "      <td>...</td>\n",
       "    </tr>\n",
       "    <tr>\n",
       "      <th>1776</th>\n",
       "      <td>HQ</td>\n",
       "      <td>5</td>\n",
       "      <td>2</td>\n",
       "      <td>1</td>\n",
       "      <td>5-10</td>\n",
       "    </tr>\n",
       "    <tr>\n",
       "      <th>1833</th>\n",
       "      <td>East campus</td>\n",
       "      <td>2</td>\n",
       "      <td>3</td>\n",
       "      <td>2</td>\n",
       "      <td>0</td>\n",
       "    </tr>\n",
       "    <tr>\n",
       "      <th>510</th>\n",
       "      <td>HQ</td>\n",
       "      <td>1</td>\n",
       "      <td>2</td>\n",
       "      <td>4</td>\n",
       "      <td>0</td>\n",
       "    </tr>\n",
       "    <tr>\n",
       "      <th>553</th>\n",
       "      <td>HQ</td>\n",
       "      <td>1</td>\n",
       "      <td>1</td>\n",
       "      <td>4</td>\n",
       "      <td>0</td>\n",
       "    </tr>\n",
       "    <tr>\n",
       "      <th>106</th>\n",
       "      <td>HQ</td>\n",
       "      <td>1</td>\n",
       "      <td>3</td>\n",
       "      <td>4</td>\n",
       "      <td>0</td>\n",
       "    </tr>\n",
       "  </tbody>\n",
       "</table>\n",
       "<p>1689 rows × 5 columns</p>\n",
       "</div>"
      ],
      "text/plain": [
       "         Location  Min_years_exp  Technical  Comm Travel\n",
       "2020           HQ              5          2     3      0\n",
       "901        Remote              1          1     4      0\n",
       "2168       Remote              5          3     5      0\n",
       "39         Remote              1          1     4  10-15\n",
       "1860           HQ              5          4     2      0\n",
       "...           ...            ...        ...   ...    ...\n",
       "1776           HQ              5          2     1   5-10\n",
       "1833  East campus              2          3     2      0\n",
       "510            HQ              1          2     4      0\n",
       "553            HQ              1          1     4      0\n",
       "106            HQ              1          3     4      0\n",
       "\n",
       "[1689 rows x 5 columns]"
      ]
     },
     "execution_count": 11,
     "metadata": {},
     "output_type": "execute_result"
    }
   ],
   "source": [
    "Train_NonText_inputs"
   ]
  },
  {
   "cell_type": "code",
   "execution_count": 12,
   "metadata": {},
   "outputs": [],
   "source": [
    "from sklearn.compose import ColumnTransformer\n",
    "from sklearn.pipeline import Pipeline\n",
    "from sklearn.impute import SimpleImputer\n",
    "from sklearn.preprocessing import StandardScaler\n",
    "from sklearn.preprocessing import OneHotEncoder\n",
    "\n",
    "from sklearn.preprocessing import FunctionTransformer"
   ]
  },
  {
   "cell_type": "markdown",
   "metadata": {},
   "source": [
    "##  Identify the numerical and categorical columns"
   ]
  },
  {
   "cell_type": "code",
   "execution_count": 13,
   "metadata": {},
   "outputs": [
    {
     "data": {
      "text/plain": [
       "Location         object\n",
       "Min_years_exp     int64\n",
       "Technical         int64\n",
       "Comm              int64\n",
       "Travel           object\n",
       "dtype: object"
      ]
     },
     "execution_count": 13,
     "metadata": {},
     "output_type": "execute_result"
    }
   ],
   "source": [
    "Train_NonText_inputs.dtypes"
   ]
  },
  {
   "cell_type": "code",
   "execution_count": 14,
   "metadata": {},
   "outputs": [],
   "source": [
    "numeric_columns=['Min_years_exp','Technical','Comm']"
   ]
  },
  {
   "cell_type": "code",
   "execution_count": 15,
   "metadata": {},
   "outputs": [],
   "source": [
    "categorical_columns=['Location']"
   ]
  },
  {
   "cell_type": "code",
   "execution_count": 16,
   "metadata": {},
   "outputs": [],
   "source": [
    "feat_eng_columns=['Travel']"
   ]
  },
  {
   "cell_type": "markdown",
   "metadata": {},
   "source": [
    "## Pipeline"
   ]
  },
  {
   "cell_type": "code",
   "execution_count": 17,
   "metadata": {},
   "outputs": [],
   "source": [
    "numeric_transformer = Pipeline(steps=[\n",
    "                ('imputer', SimpleImputer(strategy='median')),\n",
    "                ('scaler', StandardScaler())])"
   ]
  },
  {
   "cell_type": "code",
   "execution_count": 18,
   "metadata": {},
   "outputs": [],
   "source": [
    "categorical_transformer = Pipeline(steps=[\n",
    "    ('imputer', SimpleImputer(strategy='constant', fill_value='unknown')),\n",
    "    ('onehot', OneHotEncoder(handle_unknown='ignore'))])"
   ]
  },
  {
   "cell_type": "code",
   "execution_count": 19,
   "metadata": {},
   "outputs": [],
   "source": [
    "my_new_column = Pipeline(steps=[('my_new_column', FunctionTransformer(new_col))])"
   ]
  },
  {
   "cell_type": "code",
   "execution_count": 20,
   "metadata": {},
   "outputs": [],
   "source": [
    "preprocessor = ColumnTransformer([\n",
    "        ('num', numeric_transformer, numeric_columns),\n",
    "        ('cat', categorical_transformer, categorical_columns),\n",
    "        ('trans', my_new_column, feat_eng_columns)],\n",
    "        remainder='passthrough')"
   ]
  },
  {
   "cell_type": "markdown",
   "metadata": {},
   "source": [
    "### Transform: fit_transform() for TRAIN_NonText"
   ]
  },
  {
   "cell_type": "code",
   "execution_count": 21,
   "metadata": {},
   "outputs": [
    {
     "data": {
      "text/plain": [
       "array([[ 1.11055139, -0.20605048, -0.12733148, ...,  0.        ,\n",
       "         0.        ,  0.        ],\n",
       "       [-1.11582404, -1.03863245,  0.99278765, ...,  0.        ,\n",
       "         0.        ,  0.        ],\n",
       "       [ 1.11055139,  0.62653149,  2.11290678, ...,  0.        ,\n",
       "         0.        ,  0.        ],\n",
       "       ...,\n",
       "       [-1.11582404, -0.20605048,  0.99278765, ...,  0.        ,\n",
       "         0.        ,  0.        ],\n",
       "       [-1.11582404, -1.03863245,  0.99278765, ...,  0.        ,\n",
       "         0.        ,  0.        ],\n",
       "       [-1.11582404,  0.62653149,  0.99278765, ...,  0.        ,\n",
       "         0.        ,  0.        ]])"
      ]
     },
     "execution_count": 21,
     "metadata": {},
     "output_type": "execute_result"
    }
   ],
   "source": [
    "train_x_nontext = preprocessor.fit_transform(Train_NonText_inputs)\n",
    "\n",
    "train_x_nontext"
   ]
  },
  {
   "cell_type": "code",
   "execution_count": 22,
   "metadata": {},
   "outputs": [
    {
     "data": {
      "text/plain": [
       "(1689, 9)"
      ]
     },
     "execution_count": 22,
     "metadata": {},
     "output_type": "execute_result"
    }
   ],
   "source": [
    "train_x_nontext.shape"
   ]
  },
  {
   "cell_type": "markdown",
   "metadata": {},
   "source": [
    "### Tranform: transform() for TEST_NonText"
   ]
  },
  {
   "cell_type": "code",
   "execution_count": 23,
   "metadata": {},
   "outputs": [
    {
     "data": {
      "text/plain": [
       "array([[ 1.11055139,  2.29169542, -1.24745061, ...,  0.        ,\n",
       "         0.        ,  0.        ],\n",
       "       [-0.55923018,  2.29169542, -0.12733148, ...,  0.        ,\n",
       "         0.        ,  0.        ],\n",
       "       [ 1.11055139,  2.29169542, -0.12733148, ...,  0.        ,\n",
       "         1.        ,  0.        ],\n",
       "       ...,\n",
       "       [-1.11582404, -0.20605048, -0.12733148, ...,  0.        ,\n",
       "         1.        ,  0.        ],\n",
       "       [ 1.11055139, -1.03863245,  0.99278765, ...,  0.        ,\n",
       "         0.        ,  1.        ],\n",
       "       [ 1.11055139, -0.20605048, -0.12733148, ...,  0.        ,\n",
       "         0.        ,  1.        ]])"
      ]
     },
     "execution_count": 23,
     "metadata": {},
     "output_type": "execute_result"
    }
   ],
   "source": [
    "test_x_nontext = preprocessor.transform(Test_NonText_inputs)\n",
    "\n",
    "test_x_nontext"
   ]
  },
  {
   "cell_type": "code",
   "execution_count": 24,
   "metadata": {},
   "outputs": [
    {
     "data": {
      "text/plain": [
       "(724, 9)"
      ]
     },
     "execution_count": 24,
     "metadata": {},
     "output_type": "execute_result"
    }
   ],
   "source": [
    "test_x_nontext.shape"
   ]
  },
  {
   "cell_type": "markdown",
   "metadata": {},
   "source": [
    "## Sklearn: Text preparation\n",
    "\n",
    "We need to prepare the text data. We'll use sklearn's CountVectorizer, which counts the frequency of words that appear in your entire data set.<br>\n",
    "CountVectorizer: https://scikit-learn.org/stable/modules/generated/sklearn.feature_extraction.text.CountVectorizer.html\n",
    "\n",
    "If you don't use the CountVectorizer, you have to do all the text prep on your own:<br>\n",
    "1- Convert to lowercase<br>\n",
    "2- Remove numbers (if needed)<br>\n",
    "3- Remove punctuation<br>\n",
    "4- Remove whitespace<br>\n",
    "5- Tokenize<br>\n",
    "6- Stemming<br>\n",
    "etc.\n",
    "\n",
    "Note that, CountVectorizer doesn't do stemming, or lemmatizing. You may want to use NLTK for that (import NLTK)"
   ]
  },
  {
   "cell_type": "code",
   "execution_count": 27,
   "metadata": {},
   "outputs": [],
   "source": [
    "#TfidfVectorizer includes pre-processing, tokenization, filtering stop words\n",
    "from sklearn.feature_extraction.text import TfidfVectorizer\n",
    "\n",
    "tfidf_vect = TfidfVectorizer(stop_words='english')\n",
    "\n",
    "train_x_tr = tfidf_vect.fit_transform(Train_Text_inputs)"
   ]
  },
  {
   "cell_type": "code",
   "execution_count": 29,
   "metadata": {},
   "outputs": [],
   "source": [
    "test_x_tr = tfidf_vect.transform(Test_Text_inputs)"
   ]
  },
  {
   "cell_type": "code",
   "execution_count": 30,
   "metadata": {},
   "outputs": [
    {
     "data": {
      "text/plain": [
       "((1689, 9832), (724, 9832))"
      ]
     },
     "execution_count": 30,
     "metadata": {},
     "output_type": "execute_result"
    }
   ],
   "source": [
    "train_x_tr.shape, test_x_tr.shape"
   ]
  },
  {
   "cell_type": "code",
   "execution_count": 31,
   "metadata": {},
   "outputs": [
    {
     "data": {
      "text/plain": [
       "array([[0.        , 0.02218366, 0.        , ..., 0.        , 0.        ,\n",
       "        0.        ],\n",
       "       [0.        , 0.04383152, 0.        , ..., 0.        , 0.        ,\n",
       "        0.        ],\n",
       "       [0.        , 0.        , 0.        , ..., 0.        , 0.        ,\n",
       "        0.        ],\n",
       "       ...,\n",
       "       [0.        , 0.        , 0.        , ..., 0.        , 0.        ,\n",
       "        0.        ],\n",
       "       [0.        , 0.        , 0.        , ..., 0.        , 0.        ,\n",
       "        0.        ],\n",
       "       [0.        , 0.        , 0.        , ..., 0.        , 0.        ,\n",
       "        0.        ]])"
      ]
     },
     "execution_count": 31,
     "metadata": {},
     "output_type": "execute_result"
    }
   ],
   "source": [
    "train_x_tr.toarray()"
   ]
  },
  {
   "cell_type": "markdown",
   "metadata": {},
   "source": [
    "## Latent Semantic Analysis (Singular Value Decomposition)"
   ]
  },
  {
   "cell_type": "code",
   "execution_count": 33,
   "metadata": {},
   "outputs": [],
   "source": [
    "from sklearn.decomposition import TruncatedSVD"
   ]
  },
  {
   "cell_type": "code",
   "execution_count": 79,
   "metadata": {},
   "outputs": [],
   "source": [
    "svd = TruncatedSVD(n_components=1000, n_iter=10)"
   ]
  },
  {
   "cell_type": "markdown",
   "metadata": {},
   "source": [
    "## Fit Transform for Test Data"
   ]
  },
  {
   "cell_type": "code",
   "execution_count": 80,
   "metadata": {},
   "outputs": [],
   "source": [
    "train_x_lsa = svd.fit_transform(train_x_tr)"
   ]
  },
  {
   "cell_type": "code",
   "execution_count": 81,
   "metadata": {},
   "outputs": [
    {
     "data": {
      "text/plain": [
       "(1689, 1000)"
      ]
     },
     "execution_count": 81,
     "metadata": {},
     "output_type": "execute_result"
    }
   ],
   "source": [
    "train_x_lsa.shape"
   ]
  },
  {
   "cell_type": "code",
   "execution_count": 305,
   "metadata": {},
   "outputs": [
    {
     "data": {
      "text/plain": [
       "0.9306845349301066"
      ]
     },
     "execution_count": 305,
     "metadata": {},
     "output_type": "execute_result"
    }
   ],
   "source": [
    "svd.explained_variance_.sum() ## Cummultive Variance is ~93%"
   ]
  },
  {
   "cell_type": "markdown",
   "metadata": {},
   "source": [
    "## Transforming the Test data"
   ]
  },
  {
   "cell_type": "code",
   "execution_count": 84,
   "metadata": {},
   "outputs": [],
   "source": [
    "test_x_lsa = svd.transform(test_x_tr)"
   ]
  },
  {
   "cell_type": "code",
   "execution_count": 95,
   "metadata": {},
   "outputs": [
    {
     "data": {
      "text/plain": [
       "(1689, 1009)"
      ]
     },
     "execution_count": 95,
     "metadata": {},
     "output_type": "execute_result"
    }
   ],
   "source": [
    "train_x=np.hstack((train_x_nontext,train_x_lsa))\n",
    "train_x.shape"
   ]
  },
  {
   "cell_type": "code",
   "execution_count": 96,
   "metadata": {},
   "outputs": [
    {
     "data": {
      "text/plain": [
       "(724, 1009)"
      ]
     },
     "execution_count": 96,
     "metadata": {},
     "output_type": "execute_result"
    }
   ],
   "source": [
    "test_x=np.hstack((test_x_nontext,test_x_lsa))\n",
    "test_x.shape"
   ]
  },
  {
   "cell_type": "markdown",
   "metadata": {},
   "source": [
    "## Find the Baseline (1 point)"
   ]
  },
  {
   "cell_type": "code",
   "execution_count": 97,
   "metadata": {},
   "outputs": [],
   "source": [
    "from sklearn.metrics import mean_squared_error"
   ]
  },
  {
   "cell_type": "code",
   "execution_count": 100,
   "metadata": {},
   "outputs": [
    {
     "data": {
      "text/plain": [
       "78355.22498519834"
      ]
     },
     "execution_count": 100,
     "metadata": {},
     "output_type": "execute_result"
    }
   ],
   "source": [
    "mean_value = np.mean(train_y)\n",
    "\n",
    "mean_value"
   ]
  },
  {
   "cell_type": "code",
   "execution_count": 101,
   "metadata": {
    "collapsed": true
   },
   "outputs": [
    {
     "data": {
      "text/plain": [
       "array([78355.2249852, 78355.2249852, 78355.2249852, 78355.2249852,\n",
       "       78355.2249852, 78355.2249852, 78355.2249852, 78355.2249852,\n",
       "       78355.2249852, 78355.2249852, 78355.2249852, 78355.2249852,\n",
       "       78355.2249852, 78355.2249852, 78355.2249852, 78355.2249852,\n",
       "       78355.2249852, 78355.2249852, 78355.2249852, 78355.2249852,\n",
       "       78355.2249852, 78355.2249852, 78355.2249852, 78355.2249852,\n",
       "       78355.2249852, 78355.2249852, 78355.2249852, 78355.2249852,\n",
       "       78355.2249852, 78355.2249852, 78355.2249852, 78355.2249852,\n",
       "       78355.2249852, 78355.2249852, 78355.2249852, 78355.2249852,\n",
       "       78355.2249852, 78355.2249852, 78355.2249852, 78355.2249852,\n",
       "       78355.2249852, 78355.2249852, 78355.2249852, 78355.2249852,\n",
       "       78355.2249852, 78355.2249852, 78355.2249852, 78355.2249852,\n",
       "       78355.2249852, 78355.2249852, 78355.2249852, 78355.2249852,\n",
       "       78355.2249852, 78355.2249852, 78355.2249852, 78355.2249852,\n",
       "       78355.2249852, 78355.2249852, 78355.2249852, 78355.2249852,\n",
       "       78355.2249852, 78355.2249852, 78355.2249852, 78355.2249852,\n",
       "       78355.2249852, 78355.2249852, 78355.2249852, 78355.2249852,\n",
       "       78355.2249852, 78355.2249852, 78355.2249852, 78355.2249852,\n",
       "       78355.2249852, 78355.2249852, 78355.2249852, 78355.2249852,\n",
       "       78355.2249852, 78355.2249852, 78355.2249852, 78355.2249852,\n",
       "       78355.2249852, 78355.2249852, 78355.2249852, 78355.2249852,\n",
       "       78355.2249852, 78355.2249852, 78355.2249852, 78355.2249852,\n",
       "       78355.2249852, 78355.2249852, 78355.2249852, 78355.2249852,\n",
       "       78355.2249852, 78355.2249852, 78355.2249852, 78355.2249852,\n",
       "       78355.2249852, 78355.2249852, 78355.2249852, 78355.2249852,\n",
       "       78355.2249852, 78355.2249852, 78355.2249852, 78355.2249852,\n",
       "       78355.2249852, 78355.2249852, 78355.2249852, 78355.2249852,\n",
       "       78355.2249852, 78355.2249852, 78355.2249852, 78355.2249852,\n",
       "       78355.2249852, 78355.2249852, 78355.2249852, 78355.2249852,\n",
       "       78355.2249852, 78355.2249852, 78355.2249852, 78355.2249852,\n",
       "       78355.2249852, 78355.2249852, 78355.2249852, 78355.2249852,\n",
       "       78355.2249852, 78355.2249852, 78355.2249852, 78355.2249852,\n",
       "       78355.2249852, 78355.2249852, 78355.2249852, 78355.2249852,\n",
       "       78355.2249852, 78355.2249852, 78355.2249852, 78355.2249852,\n",
       "       78355.2249852, 78355.2249852, 78355.2249852, 78355.2249852,\n",
       "       78355.2249852, 78355.2249852, 78355.2249852, 78355.2249852,\n",
       "       78355.2249852, 78355.2249852, 78355.2249852, 78355.2249852,\n",
       "       78355.2249852, 78355.2249852, 78355.2249852, 78355.2249852,\n",
       "       78355.2249852, 78355.2249852, 78355.2249852, 78355.2249852,\n",
       "       78355.2249852, 78355.2249852, 78355.2249852, 78355.2249852,\n",
       "       78355.2249852, 78355.2249852, 78355.2249852, 78355.2249852,\n",
       "       78355.2249852, 78355.2249852, 78355.2249852, 78355.2249852,\n",
       "       78355.2249852, 78355.2249852, 78355.2249852, 78355.2249852,\n",
       "       78355.2249852, 78355.2249852, 78355.2249852, 78355.2249852,\n",
       "       78355.2249852, 78355.2249852, 78355.2249852, 78355.2249852,\n",
       "       78355.2249852, 78355.2249852, 78355.2249852, 78355.2249852,\n",
       "       78355.2249852, 78355.2249852, 78355.2249852, 78355.2249852,\n",
       "       78355.2249852, 78355.2249852, 78355.2249852, 78355.2249852,\n",
       "       78355.2249852, 78355.2249852, 78355.2249852, 78355.2249852,\n",
       "       78355.2249852, 78355.2249852, 78355.2249852, 78355.2249852,\n",
       "       78355.2249852, 78355.2249852, 78355.2249852, 78355.2249852,\n",
       "       78355.2249852, 78355.2249852, 78355.2249852, 78355.2249852,\n",
       "       78355.2249852, 78355.2249852, 78355.2249852, 78355.2249852,\n",
       "       78355.2249852, 78355.2249852, 78355.2249852, 78355.2249852,\n",
       "       78355.2249852, 78355.2249852, 78355.2249852, 78355.2249852,\n",
       "       78355.2249852, 78355.2249852, 78355.2249852, 78355.2249852,\n",
       "       78355.2249852, 78355.2249852, 78355.2249852, 78355.2249852,\n",
       "       78355.2249852, 78355.2249852, 78355.2249852, 78355.2249852,\n",
       "       78355.2249852, 78355.2249852, 78355.2249852, 78355.2249852,\n",
       "       78355.2249852, 78355.2249852, 78355.2249852, 78355.2249852,\n",
       "       78355.2249852, 78355.2249852, 78355.2249852, 78355.2249852,\n",
       "       78355.2249852, 78355.2249852, 78355.2249852, 78355.2249852,\n",
       "       78355.2249852, 78355.2249852, 78355.2249852, 78355.2249852,\n",
       "       78355.2249852, 78355.2249852, 78355.2249852, 78355.2249852,\n",
       "       78355.2249852, 78355.2249852, 78355.2249852, 78355.2249852,\n",
       "       78355.2249852, 78355.2249852, 78355.2249852, 78355.2249852,\n",
       "       78355.2249852, 78355.2249852, 78355.2249852, 78355.2249852,\n",
       "       78355.2249852, 78355.2249852, 78355.2249852, 78355.2249852,\n",
       "       78355.2249852, 78355.2249852, 78355.2249852, 78355.2249852,\n",
       "       78355.2249852, 78355.2249852, 78355.2249852, 78355.2249852,\n",
       "       78355.2249852, 78355.2249852, 78355.2249852, 78355.2249852,\n",
       "       78355.2249852, 78355.2249852, 78355.2249852, 78355.2249852,\n",
       "       78355.2249852, 78355.2249852, 78355.2249852, 78355.2249852,\n",
       "       78355.2249852, 78355.2249852, 78355.2249852, 78355.2249852,\n",
       "       78355.2249852, 78355.2249852, 78355.2249852, 78355.2249852,\n",
       "       78355.2249852, 78355.2249852, 78355.2249852, 78355.2249852,\n",
       "       78355.2249852, 78355.2249852, 78355.2249852, 78355.2249852,\n",
       "       78355.2249852, 78355.2249852, 78355.2249852, 78355.2249852,\n",
       "       78355.2249852, 78355.2249852, 78355.2249852, 78355.2249852,\n",
       "       78355.2249852, 78355.2249852, 78355.2249852, 78355.2249852,\n",
       "       78355.2249852, 78355.2249852, 78355.2249852, 78355.2249852,\n",
       "       78355.2249852, 78355.2249852, 78355.2249852, 78355.2249852,\n",
       "       78355.2249852, 78355.2249852, 78355.2249852, 78355.2249852,\n",
       "       78355.2249852, 78355.2249852, 78355.2249852, 78355.2249852,\n",
       "       78355.2249852, 78355.2249852, 78355.2249852, 78355.2249852,\n",
       "       78355.2249852, 78355.2249852, 78355.2249852, 78355.2249852,\n",
       "       78355.2249852, 78355.2249852, 78355.2249852, 78355.2249852,\n",
       "       78355.2249852, 78355.2249852, 78355.2249852, 78355.2249852,\n",
       "       78355.2249852, 78355.2249852, 78355.2249852, 78355.2249852,\n",
       "       78355.2249852, 78355.2249852, 78355.2249852, 78355.2249852,\n",
       "       78355.2249852, 78355.2249852, 78355.2249852, 78355.2249852,\n",
       "       78355.2249852, 78355.2249852, 78355.2249852, 78355.2249852,\n",
       "       78355.2249852, 78355.2249852, 78355.2249852, 78355.2249852,\n",
       "       78355.2249852, 78355.2249852, 78355.2249852, 78355.2249852,\n",
       "       78355.2249852, 78355.2249852, 78355.2249852, 78355.2249852,\n",
       "       78355.2249852, 78355.2249852, 78355.2249852, 78355.2249852,\n",
       "       78355.2249852, 78355.2249852, 78355.2249852, 78355.2249852,\n",
       "       78355.2249852, 78355.2249852, 78355.2249852, 78355.2249852,\n",
       "       78355.2249852, 78355.2249852, 78355.2249852, 78355.2249852,\n",
       "       78355.2249852, 78355.2249852, 78355.2249852, 78355.2249852,\n",
       "       78355.2249852, 78355.2249852, 78355.2249852, 78355.2249852,\n",
       "       78355.2249852, 78355.2249852, 78355.2249852, 78355.2249852,\n",
       "       78355.2249852, 78355.2249852, 78355.2249852, 78355.2249852,\n",
       "       78355.2249852, 78355.2249852, 78355.2249852, 78355.2249852,\n",
       "       78355.2249852, 78355.2249852, 78355.2249852, 78355.2249852,\n",
       "       78355.2249852, 78355.2249852, 78355.2249852, 78355.2249852,\n",
       "       78355.2249852, 78355.2249852, 78355.2249852, 78355.2249852,\n",
       "       78355.2249852, 78355.2249852, 78355.2249852, 78355.2249852,\n",
       "       78355.2249852, 78355.2249852, 78355.2249852, 78355.2249852,\n",
       "       78355.2249852, 78355.2249852, 78355.2249852, 78355.2249852,\n",
       "       78355.2249852, 78355.2249852, 78355.2249852, 78355.2249852,\n",
       "       78355.2249852, 78355.2249852, 78355.2249852, 78355.2249852,\n",
       "       78355.2249852, 78355.2249852, 78355.2249852, 78355.2249852,\n",
       "       78355.2249852, 78355.2249852, 78355.2249852, 78355.2249852,\n",
       "       78355.2249852, 78355.2249852, 78355.2249852, 78355.2249852,\n",
       "       78355.2249852, 78355.2249852, 78355.2249852, 78355.2249852,\n",
       "       78355.2249852, 78355.2249852, 78355.2249852, 78355.2249852,\n",
       "       78355.2249852, 78355.2249852, 78355.2249852, 78355.2249852,\n",
       "       78355.2249852, 78355.2249852, 78355.2249852, 78355.2249852,\n",
       "       78355.2249852, 78355.2249852, 78355.2249852, 78355.2249852,\n",
       "       78355.2249852, 78355.2249852, 78355.2249852, 78355.2249852,\n",
       "       78355.2249852, 78355.2249852, 78355.2249852, 78355.2249852,\n",
       "       78355.2249852, 78355.2249852, 78355.2249852, 78355.2249852,\n",
       "       78355.2249852, 78355.2249852, 78355.2249852, 78355.2249852,\n",
       "       78355.2249852, 78355.2249852, 78355.2249852, 78355.2249852,\n",
       "       78355.2249852, 78355.2249852, 78355.2249852, 78355.2249852,\n",
       "       78355.2249852, 78355.2249852, 78355.2249852, 78355.2249852,\n",
       "       78355.2249852, 78355.2249852, 78355.2249852, 78355.2249852,\n",
       "       78355.2249852, 78355.2249852, 78355.2249852, 78355.2249852,\n",
       "       78355.2249852, 78355.2249852, 78355.2249852, 78355.2249852,\n",
       "       78355.2249852, 78355.2249852, 78355.2249852, 78355.2249852,\n",
       "       78355.2249852, 78355.2249852, 78355.2249852, 78355.2249852,\n",
       "       78355.2249852, 78355.2249852, 78355.2249852, 78355.2249852,\n",
       "       78355.2249852, 78355.2249852, 78355.2249852, 78355.2249852,\n",
       "       78355.2249852, 78355.2249852, 78355.2249852, 78355.2249852,\n",
       "       78355.2249852, 78355.2249852, 78355.2249852, 78355.2249852,\n",
       "       78355.2249852, 78355.2249852, 78355.2249852, 78355.2249852,\n",
       "       78355.2249852, 78355.2249852, 78355.2249852, 78355.2249852,\n",
       "       78355.2249852, 78355.2249852, 78355.2249852, 78355.2249852,\n",
       "       78355.2249852, 78355.2249852, 78355.2249852, 78355.2249852,\n",
       "       78355.2249852, 78355.2249852, 78355.2249852, 78355.2249852,\n",
       "       78355.2249852, 78355.2249852, 78355.2249852, 78355.2249852,\n",
       "       78355.2249852, 78355.2249852, 78355.2249852, 78355.2249852,\n",
       "       78355.2249852, 78355.2249852, 78355.2249852, 78355.2249852,\n",
       "       78355.2249852, 78355.2249852, 78355.2249852, 78355.2249852,\n",
       "       78355.2249852, 78355.2249852, 78355.2249852, 78355.2249852,\n",
       "       78355.2249852, 78355.2249852, 78355.2249852, 78355.2249852,\n",
       "       78355.2249852, 78355.2249852, 78355.2249852, 78355.2249852,\n",
       "       78355.2249852, 78355.2249852, 78355.2249852, 78355.2249852,\n",
       "       78355.2249852, 78355.2249852, 78355.2249852, 78355.2249852,\n",
       "       78355.2249852, 78355.2249852, 78355.2249852, 78355.2249852,\n",
       "       78355.2249852, 78355.2249852, 78355.2249852, 78355.2249852,\n",
       "       78355.2249852, 78355.2249852, 78355.2249852, 78355.2249852,\n",
       "       78355.2249852, 78355.2249852, 78355.2249852, 78355.2249852,\n",
       "       78355.2249852, 78355.2249852, 78355.2249852, 78355.2249852,\n",
       "       78355.2249852, 78355.2249852, 78355.2249852, 78355.2249852,\n",
       "       78355.2249852, 78355.2249852, 78355.2249852, 78355.2249852,\n",
       "       78355.2249852, 78355.2249852, 78355.2249852, 78355.2249852,\n",
       "       78355.2249852, 78355.2249852, 78355.2249852, 78355.2249852,\n",
       "       78355.2249852, 78355.2249852, 78355.2249852, 78355.2249852,\n",
       "       78355.2249852, 78355.2249852, 78355.2249852, 78355.2249852,\n",
       "       78355.2249852, 78355.2249852, 78355.2249852, 78355.2249852,\n",
       "       78355.2249852, 78355.2249852, 78355.2249852, 78355.2249852,\n",
       "       78355.2249852, 78355.2249852, 78355.2249852, 78355.2249852,\n",
       "       78355.2249852, 78355.2249852, 78355.2249852, 78355.2249852,\n",
       "       78355.2249852, 78355.2249852, 78355.2249852, 78355.2249852,\n",
       "       78355.2249852, 78355.2249852, 78355.2249852, 78355.2249852,\n",
       "       78355.2249852, 78355.2249852, 78355.2249852, 78355.2249852,\n",
       "       78355.2249852, 78355.2249852, 78355.2249852, 78355.2249852,\n",
       "       78355.2249852, 78355.2249852, 78355.2249852, 78355.2249852,\n",
       "       78355.2249852, 78355.2249852, 78355.2249852, 78355.2249852,\n",
       "       78355.2249852, 78355.2249852, 78355.2249852, 78355.2249852,\n",
       "       78355.2249852, 78355.2249852, 78355.2249852, 78355.2249852,\n",
       "       78355.2249852, 78355.2249852, 78355.2249852, 78355.2249852,\n",
       "       78355.2249852, 78355.2249852, 78355.2249852, 78355.2249852,\n",
       "       78355.2249852, 78355.2249852, 78355.2249852, 78355.2249852,\n",
       "       78355.2249852, 78355.2249852, 78355.2249852, 78355.2249852,\n",
       "       78355.2249852, 78355.2249852, 78355.2249852, 78355.2249852,\n",
       "       78355.2249852, 78355.2249852, 78355.2249852, 78355.2249852,\n",
       "       78355.2249852, 78355.2249852, 78355.2249852, 78355.2249852,\n",
       "       78355.2249852, 78355.2249852, 78355.2249852, 78355.2249852])"
      ]
     },
     "execution_count": 101,
     "metadata": {},
     "output_type": "execute_result"
    }
   ],
   "source": [
    "baseline_pred = np.repeat(mean_value, len(test_y))\n",
    "\n",
    "baseline_pred"
   ]
  },
  {
   "cell_type": "code",
   "execution_count": 102,
   "metadata": {},
   "outputs": [
    {
     "name": "stdout",
     "output_type": "stream",
     "text": [
      "Baseline RMSE: 28277.15139189302\n"
     ]
    }
   ],
   "source": [
    "baseline_mse = mean_squared_error(test_y, baseline_pred)\n",
    "\n",
    "baseline_rmse = np.sqrt(baseline_mse)\n",
    "\n",
    "print('Baseline RMSE: {}' .format(baseline_rmse))"
   ]
  },
  {
   "cell_type": "markdown",
   "metadata": {},
   "source": [
    "# Section 2: (7 points in total)\n",
    "\n",
    "Build the following models:\n"
   ]
  },
  {
   "cell_type": "markdown",
   "metadata": {},
   "source": [
    "## Decision Tree: (1 point)"
   ]
  },
  {
   "cell_type": "code",
   "execution_count": 299,
   "metadata": {},
   "outputs": [
    {
     "data": {
      "text/plain": [
       "DecisionTreeRegressor(min_samples_leaf=10)"
      ]
     },
     "execution_count": 299,
     "metadata": {},
     "output_type": "execute_result"
    }
   ],
   "source": [
    "from sklearn.tree import DecisionTreeRegressor\n",
    "\n",
    "tree_reg = DecisionTreeRegressor(min_samples_leaf=10) \n",
    "\n",
    "tree_reg.fit(train_x, train_y)"
   ]
  },
  {
   "cell_type": "code",
   "execution_count": 300,
   "metadata": {},
   "outputs": [
    {
     "name": "stdout",
     "output_type": "stream",
     "text": [
      "Train RMSE: 15089.724146281635\n"
     ]
    }
   ],
   "source": [
    "train_pred = tree_reg.predict(train_x)\n",
    "\n",
    "train_mse = mean_squared_error(train_y, train_pred)\n",
    "\n",
    "train_rmse = np.sqrt(train_mse)\n",
    "\n",
    "print('Train RMSE: {}' .format(train_rmse))"
   ]
  },
  {
   "cell_type": "code",
   "execution_count": 301,
   "metadata": {},
   "outputs": [
    {
     "name": "stdout",
     "output_type": "stream",
     "text": [
      "Test RMSE: 23821.13475836929\n"
     ]
    }
   ],
   "source": [
    "test_pred = tree_reg.predict(test_x)\n",
    "\n",
    "test_mse = mean_squared_error(test_y, test_pred)\n",
    "\n",
    "test_rmse = np.sqrt(test_mse)\n",
    "\n",
    "print('Test RMSE: {}' .format(test_rmse))"
   ]
  },
  {
   "cell_type": "markdown",
   "metadata": {},
   "source": [
    "## Reducing Overfitting"
   ]
  },
  {
   "cell_type": "code",
   "execution_count": 306,
   "metadata": {},
   "outputs": [
    {
     "data": {
      "text/plain": [
       "DecisionTreeRegressor(min_samples_leaf=40)"
      ]
     },
     "execution_count": 306,
     "metadata": {},
     "output_type": "execute_result"
    }
   ],
   "source": [
    "from sklearn.tree import DecisionTreeRegressor\n",
    "\n",
    "tree_reg = DecisionTreeRegressor(min_samples_leaf=40) \n",
    "\n",
    "tree_reg.fit(train_x, train_y)"
   ]
  },
  {
   "cell_type": "code",
   "execution_count": 307,
   "metadata": {},
   "outputs": [
    {
     "name": "stdout",
     "output_type": "stream",
     "text": [
      "Train RMSE: 22899.3698928387\n"
     ]
    }
   ],
   "source": [
    "train_pred = tree_reg.predict(train_x)\n",
    "\n",
    "train_mse = mean_squared_error(train_y, train_pred)\n",
    "\n",
    "train_rmse = np.sqrt(train_mse)\n",
    "\n",
    "print('Train RMSE: {}' .format(train_rmse))"
   ]
  },
  {
   "cell_type": "code",
   "execution_count": 304,
   "metadata": {},
   "outputs": [
    {
     "name": "stdout",
     "output_type": "stream",
     "text": [
      "Test RMSE: 24525.87766260705\n"
     ]
    }
   ],
   "source": [
    "test_pred = tree_reg.predict(test_x)\n",
    "\n",
    "test_mse = mean_squared_error(test_y, test_pred)\n",
    "\n",
    "test_rmse = np.sqrt(test_mse)\n",
    "\n",
    "print('Test RMSE: {}' .format(test_rmse))"
   ]
  },
  {
   "cell_type": "code",
   "execution_count": null,
   "metadata": {},
   "outputs": [],
   "source": []
  },
  {
   "cell_type": "markdown",
   "metadata": {},
   "source": [
    "## Voting regressor (2 points):\n",
    "\n",
    "The voting regressor should have at least 3 individual models"
   ]
  },
  {
   "cell_type": "code",
   "execution_count": 320,
   "metadata": {},
   "outputs": [
    {
     "name": "stderr",
     "output_type": "stream",
     "text": [
      "C:\\Anaconda\\lib\\site-packages\\sklearn\\linear_model\\_stochastic_gradient.py:1225: ConvergenceWarning: Maximum number of iteration reached before convergence. Consider increasing max_iter to improve the fit.\n",
      "  warnings.warn(\"Maximum number of iteration reached before \"\n"
     ]
    },
    {
     "data": {
      "text/plain": [
       "VotingRegressor(estimators=[('dt', DecisionTreeRegressor(max_depth=20)),\n",
       "                            ('svr', SVR(C=10, epsilon=0.01)),\n",
       "                            ('sgd', SGDRegressor(max_iter=10000))])"
      ]
     },
     "execution_count": 320,
     "metadata": {},
     "output_type": "execute_result"
    }
   ],
   "source": [
    "from sklearn.tree import DecisionTreeRegressor\n",
    "from sklearn.linear_model import SGDRegressor \n",
    "from sklearn.svm import SVR \n",
    "from sklearn.ensemble import VotingRegressor\n",
    "\n",
    "\n",
    "dtree_reg = DecisionTreeRegressor(max_depth=20)\n",
    "svm_reg = SVR(kernel=\"rbf\", C=10, epsilon=0.01, gamma='scale') \n",
    "sgd_reg = SGDRegressor(max_iter=10000, tol=1e-3)\n",
    "\n",
    "voting_reg = VotingRegressor(\n",
    "            estimators=[('dt', dtree_reg), \n",
    "                        ('svr', svm_reg), \n",
    "                        ('sgd', sgd_reg)])\n",
    "\n",
    "voting_reg.fit(train_x, train_y)"
   ]
  },
  {
   "cell_type": "code",
   "execution_count": 321,
   "metadata": {},
   "outputs": [
    {
     "name": "stdout",
     "output_type": "stream",
     "text": [
      "Train RMSE: 12101.443643304696\n"
     ]
    }
   ],
   "source": [
    "train_pred = voting_reg.predict(train_x)\n",
    "\n",
    "train_mse = mean_squared_error(train_y, train_pred)\n",
    "\n",
    "train_rmse = np.sqrt(train_mse)\n",
    "\n",
    "print('Train RMSE: {}' .format(train_rmse))"
   ]
  },
  {
   "cell_type": "code",
   "execution_count": 322,
   "metadata": {},
   "outputs": [
    {
     "name": "stdout",
     "output_type": "stream",
     "text": [
      "Test RMSE: 18492.107631021525\n"
     ]
    }
   ],
   "source": [
    "test_pred = voting_reg.predict(test_x)\n",
    "\n",
    "test_mse = mean_squared_error(test_y, test_pred)\n",
    "\n",
    "test_rmse = np.sqrt(test_mse)\n",
    "\n",
    "print('Test RMSE: {}' .format(test_rmse))"
   ]
  },
  {
   "cell_type": "markdown",
   "metadata": {},
   "source": [
    "## Reducing Overfitting"
   ]
  },
  {
   "cell_type": "code",
   "execution_count": 323,
   "metadata": {},
   "outputs": [
    {
     "name": "stderr",
     "output_type": "stream",
     "text": [
      "C:\\Anaconda\\lib\\site-packages\\sklearn\\linear_model\\_stochastic_gradient.py:1225: ConvergenceWarning: Maximum number of iteration reached before convergence. Consider increasing max_iter to improve the fit.\n",
      "  warnings.warn(\"Maximum number of iteration reached before \"\n"
     ]
    },
    {
     "data": {
      "text/plain": [
       "VotingRegressor(estimators=[('dt', DecisionTreeRegressor(max_depth=3)),\n",
       "                            ('svr', SVR(C=10, epsilon=0.01)),\n",
       "                            ('sgd', SGDRegressor(max_iter=10000))])"
      ]
     },
     "execution_count": 323,
     "metadata": {},
     "output_type": "execute_result"
    }
   ],
   "source": [
    "from sklearn.tree import DecisionTreeRegressor\n",
    "from sklearn.linear_model import SGDRegressor \n",
    "from sklearn.svm import SVR \n",
    "from sklearn.ensemble import VotingRegressor\n",
    "\n",
    "\n",
    "dtree_reg = DecisionTreeRegressor(max_depth=3)\n",
    "svm_reg = SVR(kernel=\"rbf\", C=10, epsilon=0.01, gamma='scale') \n",
    "sgd_reg = SGDRegressor(max_iter=10000, tol=1e-3)\n",
    "\n",
    "voting_reg = VotingRegressor(\n",
    "            estimators=[('dt', dtree_reg), \n",
    "                        ('svr', svm_reg), \n",
    "                        ('sgd', sgd_reg)])\n",
    "\n",
    "voting_reg.fit(train_x, train_y)"
   ]
  },
  {
   "cell_type": "code",
   "execution_count": 324,
   "metadata": {},
   "outputs": [
    {
     "name": "stdout",
     "output_type": "stream",
     "text": [
      "Train RMSE: 20335.12682957138\n"
     ]
    }
   ],
   "source": [
    "train_pred = voting_reg.predict(train_x)\n",
    "\n",
    "train_mse = mean_squared_error(train_y, train_pred)\n",
    "\n",
    "train_rmse = np.sqrt(train_mse)\n",
    "\n",
    "print('Train RMSE: {}' .format(train_rmse))"
   ]
  },
  {
   "cell_type": "code",
   "execution_count": 325,
   "metadata": {},
   "outputs": [
    {
     "name": "stdout",
     "output_type": "stream",
     "text": [
      "Test RMSE: 22214.08183730077\n"
     ]
    }
   ],
   "source": [
    "test_pred = voting_reg.predict(test_x)\n",
    "\n",
    "test_mse = mean_squared_error(test_y, test_pred)\n",
    "\n",
    "test_rmse = np.sqrt(test_mse)\n",
    "\n",
    "print('Test RMSE: {}' .format(test_rmse))"
   ]
  },
  {
   "cell_type": "markdown",
   "metadata": {},
   "source": [
    "## A Boosting model: (1 point)\n",
    "\n",
    "Build either an Adaboost or a GradientBoost model"
   ]
  },
  {
   "cell_type": "code",
   "execution_count": 352,
   "metadata": {},
   "outputs": [
    {
     "data": {
      "text/plain": [
       "AdaBoostRegressor(base_estimator=DecisionTreeRegressor(max_depth=1),\n",
       "                  learning_rate=0.1, n_estimators=500)"
      ]
     },
     "execution_count": 352,
     "metadata": {},
     "output_type": "execute_result"
    }
   ],
   "source": [
    "from sklearn.ensemble import AdaBoostRegressor \n",
    "\n",
    "#Create Adapative Boosting with Decision Stumps (depth=1)\n",
    "ada_reg = AdaBoostRegressor( \n",
    "            DecisionTreeRegressor(max_depth=1), n_estimators=500, \n",
    "            learning_rate=0.1) \n",
    "\n",
    "ada_reg.fit(train_x, train_y)"
   ]
  },
  {
   "cell_type": "code",
   "execution_count": 353,
   "metadata": {},
   "outputs": [
    {
     "name": "stdout",
     "output_type": "stream",
     "text": [
      "Train RMSE: 29926.098016920172\n"
     ]
    }
   ],
   "source": [
    "train_pred = ada_reg.predict(train_x)\n",
    "\n",
    "train_mse = mean_squared_error(train_y, train_pred)\n",
    "\n",
    "train_rmse = np.sqrt(train_mse)\n",
    "\n",
    "print('Train RMSE: {}' .format(train_rmse))"
   ]
  },
  {
   "cell_type": "code",
   "execution_count": 354,
   "metadata": {
    "scrolled": true
   },
   "outputs": [
    {
     "name": "stdout",
     "output_type": "stream",
     "text": [
      "Test RMSE: 29818.44963353811\n"
     ]
    }
   ],
   "source": [
    "test_pred = ada_reg.predict(test_x)\n",
    "\n",
    "test_mse = mean_squared_error(test_y, test_pred)\n",
    "\n",
    "test_rmse = np.sqrt(test_mse)\n",
    "\n",
    "print('Test RMSE: {}' .format(test_rmse))"
   ]
  },
  {
   "cell_type": "markdown",
   "metadata": {},
   "source": [
    "## Neural network: (1 point)"
   ]
  },
  {
   "cell_type": "code",
   "execution_count": 331,
   "metadata": {},
   "outputs": [
    {
     "name": "stderr",
     "output_type": "stream",
     "text": [
      "C:\\Anaconda\\lib\\site-packages\\sklearn\\neural_network\\_multilayer_perceptron.py:614: ConvergenceWarning: Stochastic Optimizer: Maximum iterations (1000) reached and the optimization hasn't converged yet.\n",
      "  warnings.warn(\n"
     ]
    },
    {
     "data": {
      "text/plain": [
       "MLPRegressor(hidden_layer_sizes=(700,), max_iter=1000)"
      ]
     },
     "execution_count": 331,
     "metadata": {},
     "output_type": "execute_result"
    }
   ],
   "source": [
    "from sklearn.neural_network import MLPRegressor\n",
    "\n",
    "#Default settings create 1 hidden layer with 100 neurons\n",
    "mlp_reg = MLPRegressor(hidden_layer_sizes=(700,),max_iter=1000)\n",
    "\n",
    "mlp_reg.fit(train_x, train_y)"
   ]
  },
  {
   "cell_type": "code",
   "execution_count": 332,
   "metadata": {},
   "outputs": [
    {
     "name": "stdout",
     "output_type": "stream",
     "text": [
      "Train RMSE: 20018.448079172707\n"
     ]
    }
   ],
   "source": [
    "#Train RMSE\n",
    "train_pred = mlp_reg.predict(train_x)\n",
    "\n",
    "train_mse = mean_squared_error(train_y, train_pred)\n",
    "\n",
    "train_rmse = np.sqrt(train_mse)\n",
    "\n",
    "print('Train RMSE: {}' .format(train_rmse))"
   ]
  },
  {
   "cell_type": "code",
   "execution_count": 333,
   "metadata": {},
   "outputs": [
    {
     "name": "stdout",
     "output_type": "stream",
     "text": [
      "Test RMSE: 22588.957256599722\n"
     ]
    }
   ],
   "source": [
    "test_pred = mlp_reg.predict(test_x)\n",
    "\n",
    "test_mse = mean_squared_error(test_y, test_pred)\n",
    "\n",
    "test_rmse = np.sqrt(test_mse)\n",
    "\n",
    "print('Test RMSE: {}' .format(test_rmse))"
   ]
  },
  {
   "cell_type": "markdown",
   "metadata": {},
   "source": [
    "## Grid search (2 points)\n",
    "\n",
    "Perform either a full or randomized grid search on any model you want. There has to be at least two parameters for the search. "
   ]
  },
  {
   "cell_type": "code",
   "execution_count": 334,
   "metadata": {
    "scrolled": true
   },
   "outputs": [
    {
     "name": "stdout",
     "output_type": "stream",
     "text": [
      "Fitting 5 folds for each of 50 candidates, totalling 250 fits\n"
     ]
    },
    {
     "data": {
      "text/plain": [
       "RandomizedSearchCV(cv=5, estimator=DecisionTreeRegressor(), n_iter=50,\n",
       "                   param_distributions=[{'max_depth': array([10, 11, 12, 13, 14, 15, 16, 17, 18, 19, 20, 21, 22, 23, 24, 25, 26,\n",
       "       27, 28, 29]),\n",
       "                                         'min_samples_leaf': array([10, 11, 12, 13, 14, 15, 16, 17, 18, 19, 20, 21, 22, 23, 24, 25, 26,\n",
       "       27, 28, 29])}],\n",
       "                   return_train_score=True, scoring='neg_mean_squared_error',\n",
       "                   verbose=1)"
      ]
     },
     "execution_count": 334,
     "metadata": {},
     "output_type": "execute_result"
    }
   ],
   "source": [
    "from sklearn.model_selection import RandomizedSearchCV\n",
    "\n",
    "param_grid = [\n",
    "    {'min_samples_leaf': np.arange(10, 30), \n",
    "     'max_depth': np.arange(10,30)}\n",
    "  ]\n",
    "\n",
    "tree_reg = DecisionTreeRegressor()\n",
    "\n",
    "grid_search = RandomizedSearchCV(tree_reg, param_grid, cv=5, n_iter=50,\n",
    "                           scoring='neg_mean_squared_error', verbose=1,\n",
    "                           return_train_score=True)\n",
    "\n",
    "grid_search.fit(train_x, train_y)"
   ]
  },
  {
   "cell_type": "code",
   "execution_count": 335,
   "metadata": {
    "collapsed": true
   },
   "outputs": [
    {
     "name": "stdout",
     "output_type": "stream",
     "text": [
      "27382.859554464056 {'min_samples_leaf': 25, 'max_depth': 25}\n",
      "28045.79991986089 {'min_samples_leaf': 16, 'max_depth': 14}\n",
      "27368.96111708388 {'min_samples_leaf': 10, 'max_depth': 28}\n",
      "27419.755081068633 {'min_samples_leaf': 21, 'max_depth': 26}\n",
      "27537.566746987155 {'min_samples_leaf': 17, 'max_depth': 12}\n",
      "27920.23995978661 {'min_samples_leaf': 15, 'max_depth': 18}\n",
      "27558.394264508377 {'min_samples_leaf': 17, 'max_depth': 13}\n",
      "28045.79991986089 {'min_samples_leaf': 16, 'max_depth': 22}\n",
      "27747.010739308625 {'min_samples_leaf': 23, 'max_depth': 11}\n",
      "27375.432312091783 {'min_samples_leaf': 20, 'max_depth': 25}\n",
      "27416.032759041107 {'min_samples_leaf': 24, 'max_depth': 12}\n",
      "28209.279438748028 {'min_samples_leaf': 13, 'max_depth': 22}\n",
      "27949.1665215394 {'min_samples_leaf': 27, 'max_depth': 12}\n",
      "27744.669762414193 {'min_samples_leaf': 23, 'max_depth': 16}\n",
      "28348.34108748264 {'min_samples_leaf': 11, 'max_depth': 22}\n",
      "27392.349423524443 {'min_samples_leaf': 10, 'max_depth': 26}\n",
      "27955.783303177373 {'min_samples_leaf': 27, 'max_depth': 11}\n",
      "27936.625429984 {'min_samples_leaf': 27, 'max_depth': 23}\n",
      "27744.669762414193 {'min_samples_leaf': 23, 'max_depth': 17}\n",
      "27917.866570253922 {'min_samples_leaf': 28, 'max_depth': 20}\n",
      "27920.23995978661 {'min_samples_leaf': 15, 'max_depth': 21}\n",
      "27150.339705647 {'min_samples_leaf': 18, 'max_depth': 29}\n",
      "28237.312129721344 {'min_samples_leaf': 13, 'max_depth': 13}\n",
      "27024.407781817583 {'min_samples_leaf': 19, 'max_depth': 16}\n",
      "27631.62008424973 {'min_samples_leaf': 14, 'max_depth': 18}\n",
      "27744.669762414193 {'min_samples_leaf': 23, 'max_depth': 22}\n",
      "27943.206854532513 {'min_samples_leaf': 15, 'max_depth': 13}\n",
      "27094.33898459178 {'min_samples_leaf': 19, 'max_depth': 10}\n",
      "27917.866570253922 {'min_samples_leaf': 28, 'max_depth': 29}\n",
      "27375.432312091783 {'min_samples_leaf': 20, 'max_depth': 22}\n",
      "27744.669762414193 {'min_samples_leaf': 23, 'max_depth': 29}\n",
      "28351.033483442774 {'min_samples_leaf': 11, 'max_depth': 24}\n",
      "27462.412855081722 {'min_samples_leaf': 10, 'max_depth': 27}\n",
      "27730.87717521642 {'min_samples_leaf': 26, 'max_depth': 23}\n",
      "28209.279438748028 {'min_samples_leaf': 13, 'max_depth': 23}\n",
      "27024.407781817583 {'min_samples_leaf': 19, 'max_depth': 26}\n",
      "27920.23995978661 {'min_samples_leaf': 15, 'max_depth': 20}\n",
      "27735.786037324473 {'min_samples_leaf': 26, 'max_depth': 10}\n",
      "28055.875902943753 {'min_samples_leaf': 12, 'max_depth': 24}\n",
      "27917.866570253922 {'min_samples_leaf': 28, 'max_depth': 23}\n",
      "28045.79991986089 {'min_samples_leaf': 16, 'max_depth': 18}\n",
      "28045.79991986089 {'min_samples_leaf': 16, 'max_depth': 16}\n",
      "28138.693758048485 {'min_samples_leaf': 12, 'max_depth': 11}\n",
      "27374.611049536972 {'min_samples_leaf': 25, 'max_depth': 12}\n",
      "27108.66445727109 {'min_samples_leaf': 18, 'max_depth': 10}\n",
      "27399.942954683043 {'min_samples_leaf': 10, 'max_depth': 19}\n",
      "27744.669762414193 {'min_samples_leaf': 23, 'max_depth': 14}\n",
      "27364.168054752663 {'min_samples_leaf': 20, 'max_depth': 10}\n",
      "27024.407781817583 {'min_samples_leaf': 19, 'max_depth': 15}\n",
      "27936.625429984 {'min_samples_leaf': 27, 'max_depth': 17}\n"
     ]
    }
   ],
   "source": [
    "cvres = grid_search.cv_results_\n",
    "\n",
    "for mean_score, params in zip(cvres[\"mean_test_score\"], cvres[\"params\"]):\n",
    "    print(np.sqrt(-mean_score), params)"
   ]
  },
  {
   "cell_type": "code",
   "execution_count": 336,
   "metadata": {},
   "outputs": [
    {
     "data": {
      "text/plain": [
       "{'min_samples_leaf': 19, 'max_depth': 16}"
      ]
     },
     "execution_count": 336,
     "metadata": {},
     "output_type": "execute_result"
    }
   ],
   "source": [
    "grid_search.best_params_"
   ]
  },
  {
   "cell_type": "code",
   "execution_count": 337,
   "metadata": {},
   "outputs": [
    {
     "data": {
      "text/plain": [
       "DecisionTreeRegressor(max_depth=16, min_samples_leaf=19)"
      ]
     },
     "execution_count": 337,
     "metadata": {},
     "output_type": "execute_result"
    }
   ],
   "source": [
    "grid_search.best_estimator_"
   ]
  },
  {
   "cell_type": "code",
   "execution_count": 338,
   "metadata": {},
   "outputs": [
    {
     "name": "stdout",
     "output_type": "stream",
     "text": [
      "Train RMSE: 18016.04347551832\n"
     ]
    }
   ],
   "source": [
    "train_pred = grid_search.best_estimator_.predict(train_x)\n",
    "\n",
    "train_mse = mean_squared_error(train_y, train_pred)\n",
    "\n",
    "train_rmse = np.sqrt(train_mse)\n",
    "\n",
    "print('Train RMSE: {}' .format(train_rmse))"
   ]
  },
  {
   "cell_type": "code",
   "execution_count": 339,
   "metadata": {},
   "outputs": [
    {
     "name": "stdout",
     "output_type": "stream",
     "text": [
      "Test RMSE: 25218.742943882036\n"
     ]
    }
   ],
   "source": [
    "test_pred = grid_search.best_estimator_.predict(test_x)\n",
    "\n",
    "test_mse = mean_squared_error(test_y, test_pred)\n",
    "\n",
    "test_rmse = np.sqrt(test_mse)\n",
    "\n",
    "print('Test RMSE: {}' .format(test_rmse))"
   ]
  },
  {
   "cell_type": "markdown",
   "metadata": {},
   "source": [
    "# Discussion (5 points in total)\n"
   ]
  },
  {
   "cell_type": "markdown",
   "metadata": {},
   "source": [
    "## List the train and test values of each model you built (2 points)"
   ]
  },
  {
   "cell_type": "raw",
   "metadata": {},
   "source": [
    "For Decision Tree : Train RMSE is 15089.72 and Test RMSE is 23821.13\n",
    "For Decision Tree(Controlling Overfitting) : Train RMSE : 22899.36 and Test RMSE : 24525.87\n",
    "\n",
    "For Voting Regressor : Train RMSE is 12101.44 and Test RMSE is 18492.10\n",
    "For Voting Regressor(Controlling Overfitting) : Train RMSE : 20335.12 and Test RMSE : 22214.08\n",
    "\n",
    "For Boosting Model (Adaboost): Train RMSE is 29926.09 and Test RMSE is 29818.44\n",
    "\n",
    "For Neural Network : Train RMSE is 20018.44 and Test RMSE is 22588.95\n",
    "\n",
    "For Grid Search : Train RMSE is 18016.04 and Test RMSE is 25218.74\n"
   ]
  },
  {
   "cell_type": "markdown",
   "metadata": {},
   "source": [
    "## Which model performs the best and why? (0.5 points) \n",
    "## How does it compare to baseline? (0.5 points)\n",
    "\n",
    "Hint: The best model is the one that has the highest TEST score (regardless of any of the training values). If you select your model based on TRAIN values, you will lose points."
   ]
  },
  {
   "cell_type": "raw",
   "metadata": {},
   "source": [
    "Voting Regressor model performs the best because it has least Test RMSE of 18492.10\n",
    "\n",
    "It is better than the baseline value of 28277.15 since it is lesser than the baseline value\n",
    "\n",
    "Baseline RMSE is 9785.05 higher than Test RMSE of Voting Regressor"
   ]
  },
  {
   "cell_type": "markdown",
   "metadata": {},
   "source": [
    "## Is there any evidence of overfitting in the best model, why or why not? If there is, what did you do about it? (1 point)"
   ]
  },
  {
   "cell_type": "raw",
   "metadata": {},
   "source": [
    "There was evidence of overfitting in Voting Regressor because the Train RMSE was 12101.44 and Test RMSE was 18492.10. Test RMSE was 6390.56 higher than Train RMSE. We reduced the max depth(Decision Tree Regressor)to 3 from 20 to reduce overfitting and got the values as follows:\n",
    "\n",
    "Train RMSE : 20335.12 and Test RMSE : 22214.08 (This controlled the overfitting but incrased the Test RMSE by a bit)"
   ]
  },
  {
   "cell_type": "markdown",
   "metadata": {},
   "source": [
    "## Is there any overfitting in the other models (besides the best model), why or why not? If there is, what did you do about it? (1 point)"
   ]
  },
  {
   "cell_type": "raw",
   "metadata": {},
   "source": [
    "There was overfitting in Decision Tree because the Train RMSE was 15089.72 and Test RMSE was 23821.13. Test RMSE was 8732 higher than Train RMSE.\n",
    "To reduce overfitting, we increased the min samples leaf from 10 to 40 and controlled to overfitting by getting following models :\n",
    "\n",
    "Train RMSE : 22899.36 and Test RMSE : 24525.87 (This controlled the overfitting but increased the Test RMSE by a bit)\n",
    "\n"
   ]
  }
 ],
 "metadata": {
  "kernelspec": {
   "display_name": "Python 3 (ipykernel)",
   "language": "python",
   "name": "python3"
  },
  "language_info": {
   "codemirror_mode": {
    "name": "ipython",
    "version": 3
   },
   "file_extension": ".py",
   "mimetype": "text/x-python",
   "name": "python",
   "nbconvert_exporter": "python",
   "pygments_lexer": "ipython3",
   "version": "3.9.13"
  },
  "toc": {
   "base_numbering": 1,
   "nav_menu": {},
   "number_sections": false,
   "sideBar": true,
   "skip_h1_title": false,
   "title_cell": "Table of Contents",
   "title_sidebar": "Contents",
   "toc_cell": false,
   "toc_position": {},
   "toc_section_display": true,
   "toc_window_display": false
  }
 },
 "nbformat": 4,
 "nbformat_minor": 2
}
